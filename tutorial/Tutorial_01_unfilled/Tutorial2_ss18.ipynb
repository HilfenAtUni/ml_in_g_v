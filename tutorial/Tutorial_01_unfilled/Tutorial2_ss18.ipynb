{
 "cells": [
  {
   "cell_type": "code",
   "execution_count": 1,
   "metadata": {
    "collapsed": true
   },
   "outputs": [],
   "source": [
    "# start me by CUDA_VISIBLE_DEVICES=1 jupyter notebook --port 8888\n",
    "%matplotlib inline\n",
    "import matplotlib.pyplot as plt"
   ]
  },
  {
   "cell_type": "markdown",
   "metadata": {
    "slideshow": {
     "slide_type": "slide"
    }
   },
   "source": [
    "# Introduction Tensorpack"
   ]
  },
  {
   "cell_type": "markdown",
   "metadata": {},
   "source": [
    "![img](https://github.com/ppwwyyxx/tensorpack/raw/master/.github/tensorpack.png)"
   ]
  },
  {
   "cell_type": "markdown",
   "metadata": {
    "slideshow": {
     "slide_type": "slide"
    }
   },
   "source": [
    "## Advantages:\n",
    "\n",
    "- based on pure TensorFlow (mix it with your-favourite-library (TM))\n",
    "- supports **efficient** Multi-GPU\n",
    "- intuitive dataflow and data handling in python\n",
    "- **re-produces** state-of-the-art results (including model zoo)"
   ]
  },
  {
   "cell_type": "markdown",
   "metadata": {},
   "source": [
    "```console\n",
    "user@host pip install -U git+https://github.com/ppwwyyxx/tensorpack.git\n",
    "```\n",
    "\n",
    "ships some examples (reproducing the architecture + results):\n",
    "\n",
    "- ResNet\n",
    "- MaskRNN\n",
    "- SuperResolution\n",
    "- &lt; put your favourite GAN here &gt;"
   ]
  },
  {
   "cell_type": "markdown",
   "metadata": {
    "slideshow": {
     "slide_type": "slide"
    }
   },
   "source": [
    "## Rant Against Keras (aka: Why you should never consider using Keras)"
   ]
  },
  {
   "cell_type": "markdown",
   "metadata": {
    "slideshow": {
     "slide_type": "notes"
    }
   },
   "source": [
    "TensorFlow provides several features to speed up the training process and dataflow. Using all of them ensures you do not waste GPU time.\n",
    "\n",
    "TensorFlow even includes a StageArea (compared to other frameworks like PyTorch).\n",
    "\n",
    "Let's dive into some benchmarks:"
   ]
  },
  {
   "cell_type": "markdown",
   "metadata": {
    "slideshow": {
     "slide_type": "-"
    }
   },
   "source": [
    "### running Cifar10 (Keras - out-of-the-box)\n",
    "\n",
    "```\n",
    "cd git/github.com/tensorpack/benchmarks/other-wrappers/\n",
    "CUDA_VISIBLE_DEVICES=1 python keras.cifar10.py\n",
    "```"
   ]
  },
  {
   "cell_type": "code",
   "execution_count": 2,
   "metadata": {},
   "outputs": [
    {
     "name": "stdout",
     "output_type": "stream",
     "text": [
      "iterations per second: 2777.78\n"
     ]
    }
   ],
   "source": [
    "keras_per_sec = 50000/18.\n",
    "\n",
    "print('iterations per second: %.2f' % keras_per_sec)"
   ]
  },
  {
   "cell_type": "markdown",
   "metadata": {
    "slideshow": {
     "slide_type": "slide"
    }
   },
   "source": [
    "### running Cifar10 (TFlearn - out-of-the-box)\n",
    "\n",
    "```\n",
    "cd git/github.com/tensorpack/benchmarks/other-wrappers/\n",
    "CUDA_VISIBLE_DEVICES=1 python tflearn.cifar10.py\n",
    "```"
   ]
  },
  {
   "cell_type": "code",
   "execution_count": null,
   "metadata": {},
   "outputs": [],
   "source": [
    "tl_per_sec = 50000/17.\n",
    "\n",
    "print('iterations per second: %.2f' % tl_per_sec)"
   ]
  },
  {
   "cell_type": "markdown",
   "metadata": {
    "slideshow": {
     "slide_type": "slide"
    }
   },
   "source": [
    "### running Cifar10 (Tensorpack - out-of-the-box)\n",
    "\n",
    "```\n",
    "cd git/github.com/tensorpack/benchmarks/other-wrappers/\n",
    "CUDA_VISIBLE_DEVICES=1 python tensorpack.cifar10.py\n",
    "```"
   ]
  },
  {
   "cell_type": "code",
   "execution_count": null,
   "metadata": {},
   "outputs": [],
   "source": [
    "tp_per_sec = 50000/6.8\n",
    "\n",
    "print('iterations per second:   %10.2f' % tp_per_sec)\n",
    "\n",
    "print('speed-up factor (keras): %10.2f' % (tp_per_sec / keras_per_sec))\n",
    "print('speed-up factor (tl):    %10.2f' % (tp_per_sec / tl_per_sec))"
   ]
  },
  {
   "cell_type": "markdown",
   "metadata": {
    "slideshow": {
     "slide_type": "slide"
    }
   },
   "source": [
    "### Having a personal cluster at home? Train on 8 GPUs! Simultaneously!\n",
    "\n",
    "\n",
    "|                      | 1 GPU   | 2 GPUs  | 8 GPUs    |\n",
    "| -------------------- | ------- | ------  | --------- |\n",
    "| tensorpack+ResNet50  | __318__ | __582__ | __2177__  |\n",
    "| Keras+ResNet50       | 230     | 291     | 376       |\n",
    "|                      |\n",
    "| tensorpack+VGG16     | __226__ | __438__ | __1471__  |\n",
    "| Keras+VGG16          | 188     | 320     | 501       |\n",
    "\n",
    "\n",
    "see: https://github.com/tensorpack/benchmarks/tree/master/other-wrappers for code"
   ]
  },
  {
   "cell_type": "code",
   "execution_count": 3,
   "metadata": {
    "collapsed": true,
    "slideshow": {
     "slide_type": "slide"
    }
   },
   "outputs": [],
   "source": [
    "import tensorflow as tf\n",
    "import numpy as np\n",
    "import time\n",
    "from contextlib import contextmanager\n",
    "\n",
    "@contextmanager\n",
    "def benchmark(name=\"unnamed context\"):\n",
    "    elapsed = time.time()\n",
    "    yield\n",
    "    elapsed = time.time() - elapsed\n",
    "    print('[{}] finished in {} ms'.format(name, int(elapsed * 1000)))"
   ]
  },
  {
   "cell_type": "markdown",
   "metadata": {
    "slideshow": {
     "slide_type": "slide"
    }
   },
   "source": [
    "# Queues  (and Threading) for input data"
   ]
  },
  {
   "cell_type": "code",
   "execution_count": 4,
   "metadata": {
    "collapsed": true,
    "slideshow": {
     "slide_type": "fragment"
    }
   },
   "outputs": [],
   "source": [
    "def some_data():\n",
    "    return np.random.randn(8, 28, 28, 1).astype(np.float32)"
   ]
  },
  {
   "cell_type": "code",
   "execution_count": null,
   "metadata": {
    "collapsed": true,
    "slideshow": {
     "slide_type": "fragment"
    }
   },
   "outputs": [],
   "source": []
  },
  {
   "cell_type": "markdown",
   "metadata": {
    "slideshow": {
     "slide_type": "slide"
    }
   },
   "source": [
    "## naive (Keras-Style)"
   ]
  },
  {
   "cell_type": "markdown",
   "metadata": {
    "slideshow": {
     "slide_type": "notes"
    }
   },
   "source": [
    "Using the `feed_dict` like presented last time seems to be an intuitive way, which is used by most people. However, this way the GPU needs to wait in each `sess.run` call for CPU to prepare data. This could be a potential bottleneck. The following example uses a very small \"network\".\n",
    "\n",
    "While a larger neural network might hide the latency from `feed_dict` the pre-processing of handling of larger datasets usually make things even worse by having much higher latency. So the following is really __not__ an option"
   ]
  },
  {
   "cell_type": "code",
   "execution_count": 5,
   "metadata": {
    "collapsed": true
   },
   "outputs": [],
   "source": [
    "x = tf.placeholder(dtype=tf.float32, shape=[8, 28, 28, 1])\n",
    "img = x\n",
    "result_naive = tf.reduce_sum(img)"
   ]
  },
  {
   "cell_type": "code",
   "execution_count": 6,
   "metadata": {
    "slideshow": {
     "slide_type": "fragment"
    }
   },
   "outputs": [
    {
     "name": "stdout",
     "output_type": "stream",
     "text": [
      "[naive] finished in 199 ms\n"
     ]
    }
   ],
   "source": [
    "with tf.Session() as sess:\n",
    "    with benchmark(\"naive\"):\n",
    "        for _ in range(200):\n",
    "            sess.run(result_naive, feed_dict={x: some_data()})"
   ]
  },
  {
   "cell_type": "markdown",
   "metadata": {
    "slideshow": {
     "slide_type": "slide"
    }
   },
   "source": [
    "## improved: using Queues"
   ]
  },
  {
   "cell_type": "code",
   "execution_count": 7,
   "metadata": {
    "collapsed": true
   },
   "outputs": [],
   "source": [
    "x = tf.placeholder(dtype=tf.float32, shape=[8, 28, 28, 1])\n",
    "queue = tf.FIFOQueue(200, [tf.float32], [[8, 28, 28, 1]])\n",
    "result_improved = tf.reduce_sum(queue.dequeue())"
   ]
  },
  {
   "cell_type": "code",
   "execution_count": 8,
   "metadata": {
    "slideshow": {
     "slide_type": "fragment"
    }
   },
   "outputs": [
    {
     "name": "stdout",
     "output_type": "stream",
     "text": [
      "[improved] finished in 72 ms\n"
     ]
    }
   ],
   "source": [
    "with tf.Session() as sess:\n",
    "    # can be done in parallel (in another thread)\n",
    "    for _ in range(200):\n",
    "        sess.run(queue.enqueue(x), {x: some_data()})\n",
    "    \n",
    "    with benchmark(\"improved\"):\n",
    "        for _ in range(200):\n",
    "            sess.run(result_improved)\n",
    "    "
   ]
  },
  {
   "cell_type": "markdown",
   "metadata": {
    "slideshow": {
     "slide_type": "slide"
    }
   },
   "source": [
    "## improved: using StagingArea(GPU)"
   ]
  },
  {
   "cell_type": "code",
   "execution_count": 9,
   "metadata": {
    "collapsed": true
   },
   "outputs": [],
   "source": [
    "from tensorflow.python.ops.data_flow_ops import StagingArea\n",
    "\n",
    "x = tf.placeholder(dtype=tf.float32, shape=[8, 28, 28, 1])\n",
    "stage = StagingArea([tf.float32], [[8, 28, 28, 1]], capacity=200)\n",
    "\n",
    "result_improved2 = tf.reduce_sum(stage.get())"
   ]
  },
  {
   "cell_type": "code",
   "execution_count": 10,
   "metadata": {
    "slideshow": {
     "slide_type": "fragment"
    }
   },
   "outputs": [
    {
     "name": "stdout",
     "output_type": "stream",
     "text": [
      "[improved++] finished in 56 ms\n"
     ]
    }
   ],
   "source": [
    "with tf.Session() as sess:\n",
    "    # can be done in parallel\n",
    "    for _ in range(200):\n",
    "        sess.run(stage.put(x), {x: some_data()})\n",
    "    \n",
    "    with benchmark(\"improved++\"):\n",
    "        for _ in range(200):\n",
    "            sess.run(result_improved2)\n"
   ]
  },
  {
   "cell_type": "markdown",
   "metadata": {
    "slideshow": {
     "slide_type": "slide"
    }
   },
   "source": [
    "> Tensorpack uses both Queues + StagingArea (**out-of-the-box**)\n",
    "\n",
    "| GPUS| with  Staging  | without Staging | speed-up |\n",
    "| ----| ------- | ------- | ------------- |\n",
    "|1 | 17.8s  |17.9s   |same |\n",
    "|2 | 18.5s   | 19.6s   | 6%      |\n",
    "|4 | 19.2s  | 21.6s   | 12%     |\n",
    "|6 | 20.5s  | 22.9s   | 11.5%   |\n",
    "\n"
   ]
  },
  {
   "cell_type": "markdown",
   "metadata": {
    "slideshow": {
     "slide_type": "slide"
    }
   },
   "source": [
    "- show MNIST and TensorBoard"
   ]
  },
  {
   "cell_type": "markdown",
   "metadata": {
    "slideshow": {
     "slide_type": "slide"
    }
   },
   "source": [
    "# DataFlow"
   ]
  },
  {
   "cell_type": "markdown",
   "metadata": {},
   "source": [
    "Default way in Python to generate data"
   ]
  },
  {
   "cell_type": "code",
   "execution_count": 11,
   "metadata": {
    "collapsed": true
   },
   "outputs": [],
   "source": [
    "def generate_image(height=256, width=384):\n",
    "    return np.random.randn(256, 384, 3).astype(np.float32)"
   ]
  },
  {
   "cell_type": "code",
   "execution_count": 12,
   "metadata": {},
   "outputs": [
    {
     "name": "stdout",
     "output_type": "stream",
     "text": [
      "(256, 384, 3)\n"
     ]
    }
   ],
   "source": [
    "print generate_image().shape # Todo: which type?"
   ]
  },
  {
   "cell_type": "code",
   "execution_count": 13,
   "metadata": {
    "slideshow": {
     "slide_type": "fragment"
    }
   },
   "outputs": [
    {
     "name": "stdout",
     "output_type": "stream",
     "text": [
      "0 (256, 384, 3) -4.5038476 4.3769073\n",
      "1 (256, 384, 3) -4.3735223 4.6815505\n",
      "2 (256, 384, 3) -4.448172 4.7492323\n",
      "3 (256, 384, 3) -4.7744765 4.489028\n",
      "4 (256, 384, 3) -4.4076414 4.0822587\n",
      "5 (256, 384, 3) -4.922193 4.781825\n",
      "6 (256, 384, 3) -4.5617332 4.680471\n",
      "7 (256, 384, 3) -4.8442826 4.8508325\n",
      "8 (256, 384, 3) -4.911341 4.605827\n",
      "9 (256, 384, 3) -4.620947 4.792133\n"
     ]
    }
   ],
   "source": [
    "# Question: which range (theoretically)?\n",
    "for i in range(10):\n",
    "    dp = generate_image()\n",
    "    print i, dp.shape, dp.min(), dp.max()"
   ]
  },
  {
   "cell_type": "markdown",
   "metadata": {
    "slideshow": {
     "slide_type": "slide"
    }
   },
   "source": [
    "### Python Generator"
   ]
  },
  {
   "cell_type": "code",
   "execution_count": 14,
   "metadata": {
    "collapsed": true
   },
   "outputs": [],
   "source": [
    "def image_generator_loop(n=10, height=256, width=384):\n",
    "    for _ in range(n):\n",
    "        yield np.random.randn(256, 384, 3).astype(np.float32)"
   ]
  },
  {
   "cell_type": "code",
   "execution_count": 15,
   "metadata": {
    "slideshow": {
     "slide_type": "fragment"
    }
   },
   "outputs": [
    {
     "ename": "AttributeError",
     "evalue": "'generator' object has no attribute 'shape'",
     "output_type": "error",
     "traceback": [
      "\u001b[0;31m---------------------------------------------------------------------------\u001b[0m",
      "\u001b[0;31mAttributeError\u001b[0m                            Traceback (most recent call last)",
      "\u001b[0;32m<ipython-input-15-53875f189222>\u001b[0m in \u001b[0;36m<module>\u001b[0;34m()\u001b[0m\n\u001b[0;32m----> 1\u001b[0;31m \u001b[0;32mprint\u001b[0m \u001b[0mimage_generator_loop\u001b[0m\u001b[0;34m(\u001b[0m\u001b[0;34m)\u001b[0m\u001b[0;34m.\u001b[0m\u001b[0mshape\u001b[0m \u001b[0;31m# which type?\u001b[0m\u001b[0;34m\u001b[0m\u001b[0m\n\u001b[0m",
      "\u001b[0;31mAttributeError\u001b[0m: 'generator' object has no attribute 'shape'"
     ]
    }
   ],
   "source": [
    "print image_generator_loop().shape # which type?"
   ]
  },
  {
   "cell_type": "code",
   "execution_count": 16,
   "metadata": {
    "slideshow": {
     "slide_type": "fragment"
    }
   },
   "outputs": [
    {
     "name": "stdout",
     "output_type": "stream",
     "text": [
      "(256, 384, 3) -4.3248687 4.2775674\n",
      "(256, 384, 3) -4.5469103 4.6611605\n",
      "(256, 384, 3) -4.6130853 4.7931814\n",
      "(256, 384, 3) -4.6091404 4.1724744\n",
      "(256, 384, 3) -4.4752235 4.594284\n",
      "(256, 384, 3) -4.6940713 4.5121746\n",
      "(256, 384, 3) -4.5221395 4.763363\n",
      "(256, 384, 3) -4.3550444 4.971853\n",
      "(256, 384, 3) -4.795226 4.4119697\n",
      "(256, 384, 3) -4.4059887 4.3745375\n"
     ]
    }
   ],
   "source": [
    "for dp in image_generator_loop():\n",
    "    print dp.shape, dp.min(), dp.max()"
   ]
  },
  {
   "cell_type": "code",
   "execution_count": 17,
   "metadata": {
    "slideshow": {
     "slide_type": "slide"
    }
   },
   "outputs": [
    {
     "name": "stdout",
     "output_type": "stream",
     "text": [
      "0 (256, 384, 3) -4.239428 4.2976456\n",
      "1 (256, 384, 3) -4.462009 4.7260528\n",
      "2 (256, 384, 3) -4.627353 5.1484365\n",
      "3 (256, 384, 3) -4.399835 4.600131\n",
      "4 (256, 384, 3) -4.243345 4.38611\n",
      "5 (256, 384, 3) -4.3831906 4.6453314\n",
      "6 (256, 384, 3) -4.386298 5.065254\n",
      "7 (256, 384, 3) -4.937729 4.6078386\n",
      "8 (256, 384, 3) -4.2031083 4.749591\n",
      "9 (256, 384, 3) -4.3930473 4.2064877\n"
     ]
    }
   ],
   "source": [
    "df = image_generator_loop()  # df: dataflow\n",
    "\n",
    "for i, dp in enumerate(df):\n",
    "    print i, dp.shape, dp.min(), dp.max()"
   ]
  },
  {
   "cell_type": "markdown",
   "metadata": {
    "slideshow": {
     "slide_type": "slide"
    }
   },
   "source": [
    "#### DataMapping: Normalize Data\n",
    "\n",
    "Modifying Sequences in Python"
   ]
  },
  {
   "cell_type": "code",
   "execution_count": 18,
   "metadata": {
    "collapsed": true
   },
   "outputs": [],
   "source": [
    "def TransformData(seq, mapping):\n",
    "    for dp in seq:\n",
    "        yield mapping(dp)"
   ]
  },
  {
   "cell_type": "code",
   "execution_count": 19,
   "metadata": {
    "collapsed": true,
    "slideshow": {
     "slide_type": "fragment"
    }
   },
   "outputs": [],
   "source": [
    "def ScaleMapping(x):\n",
    "    # x is assume a single image\n",
    "    x -= x.min()\n",
    "    x /= x.max()\n",
    "    return x"
   ]
  },
  {
   "cell_type": "code",
   "execution_count": 20,
   "metadata": {
    "slideshow": {
     "slide_type": "fragment"
    }
   },
   "outputs": [
    {
     "name": "stdout",
     "output_type": "stream",
     "text": [
      "0 (256, 384, 3) 0.0 1.0\n",
      "1 (256, 384, 3) 0.0 1.0\n",
      "2 (256, 384, 3) 0.0 1.0\n",
      "3 (256, 384, 3) 0.0 1.0\n",
      "4 (256, 384, 3) 0.0 1.0\n",
      "5 (256, 384, 3) 0.0 1.0\n",
      "6 (256, 384, 3) 0.0 1.0\n",
      "7 (256, 384, 3) 0.0 1.0\n",
      "8 (256, 384, 3) 0.0 1.0\n",
      "9 (256, 384, 3) 0.0 1.0\n"
     ]
    }
   ],
   "source": [
    "df = image_generator_loop()\n",
    "df = TransformData(df, ScaleMapping)\n",
    "\n",
    "for i, dp in enumerate(df):\n",
    "    print i, dp.shape, dp.min(), dp.max()"
   ]
  },
  {
   "cell_type": "code",
   "execution_count": 21,
   "metadata": {
    "collapsed": true,
    "slideshow": {
     "slide_type": "slide"
    }
   },
   "outputs": [],
   "source": [
    "df = image_generator_loop()\n",
    "df = TransformData(df, ScaleMapping)"
   ]
  },
  {
   "cell_type": "code",
   "execution_count": 22,
   "metadata": {},
   "outputs": [
    {
     "name": "stdout",
     "output_type": "stream",
     "text": [
      "[[[0.52609277 0.39125478 0.28864545]\n",
      "  [0.49354303 0.52493614 0.33936802]\n",
      "  [0.5052901  0.5136355  0.45974392]\n",
      "  ...\n",
      "  [0.5076445  0.3324983  0.39273325]\n",
      "  [0.6048379  0.46139425 0.680654  ]\n",
      "  [0.1842969  0.5288518  0.6325173 ]]\n",
      "\n",
      " [[0.49019623 0.59860075 0.39929488]\n",
      "  [0.40937698 0.3956708  0.49038222]\n",
      "  [0.45042002 0.19818854 0.5349833 ]\n",
      "  ...\n",
      "  [0.44720155 0.24185495 0.56526935]\n",
      "  [0.66096616 0.3666565  0.76005566]\n",
      "  [0.5055868  0.5065662  0.2886736 ]]\n",
      "\n",
      " [[0.34564012 0.6070584  0.45097256]\n",
      "  [0.60262847 0.5355406  0.47860637]\n",
      "  [0.7224314  0.3177805  0.7132999 ]\n",
      "  ...\n",
      "  [0.5769981  0.56263393 0.4009237 ]\n",
      "  [0.31670928 0.48195398 0.47904137]\n",
      "  [0.57017326 0.27828586 0.52649605]]\n",
      "\n",
      " ...\n",
      "\n",
      " [[0.39182982 0.5699699  0.2904339 ]\n",
      "  [0.49156228 0.5853184  0.68426937]\n",
      "  [0.2837426  0.4516338  0.43271512]\n",
      "  ...\n",
      "  [0.298493   0.47713387 0.5373619 ]\n",
      "  [0.5024366  0.60953057 0.3204797 ]\n",
      "  [0.524962   0.62968    0.79488754]]\n",
      "\n",
      " [[0.51655877 0.52358234 0.56990594]\n",
      "  [0.47343144 0.39256838 0.58440644]\n",
      "  [0.75573456 0.6286632  0.54735357]\n",
      "  ...\n",
      "  [0.48924205 0.47992638 0.40248394]\n",
      "  [0.6136718  0.25234005 0.57405704]\n",
      "  [0.58334297 0.34968475 0.53952   ]]\n",
      "\n",
      " [[0.32565367 0.474997   0.6027575 ]\n",
      "  [0.44834933 0.47436544 0.63240707]\n",
      "  [0.37065992 0.4708132  0.55437434]\n",
      "  ...\n",
      "  [0.48284644 0.58217114 0.4302064 ]\n",
      "  [0.5594662  0.71578175 0.82644683]\n",
      "  [0.4098398  0.3709496  0.5992552 ]]]\n"
     ]
    }
   ],
   "source": [
    "print next(df)"
   ]
  },
  {
   "cell_type": "markdown",
   "metadata": {
    "slideshow": {
     "slide_type": "slide"
    }
   },
   "source": [
    "## Tensorpack: DataFlow\n",
    "see: http://tensorpack.readthedocs.io/en/latest/modules/dataflow.html"
   ]
  },
  {
   "cell_type": "code",
   "execution_count": 23,
   "metadata": {
    "collapsed": true
   },
   "outputs": [],
   "source": [
    "%matplotlib inline\n",
    "import matplotlib.pyplot as plt\n",
    "import tensorpack as tp"
   ]
  },
  {
   "cell_type": "code",
   "execution_count": 24,
   "metadata": {},
   "outputs": [
    {
     "name": "stdout",
     "output_type": "stream",
     "text": [
      "[array([[0.        , 0.        , 0.        , 0.        , 0.        ,\n",
      "        0.        , 0.        , 0.        , 0.        , 0.        ,\n",
      "        0.        , 0.        , 0.        , 0.        , 0.        ,\n",
      "        0.        , 0.        , 0.        , 0.        , 0.        ,\n",
      "        0.        , 0.        , 0.        , 0.        , 0.        ,\n",
      "        0.        , 0.        , 0.        ],\n",
      "       [0.        , 0.        , 0.        , 0.        , 0.        ,\n",
      "        0.        , 0.        , 0.        , 0.        , 0.        ,\n",
      "        0.        , 0.        , 0.        , 0.        , 0.        ,\n",
      "        0.        , 0.        , 0.        , 0.        , 0.        ,\n",
      "        0.        , 0.        , 0.        , 0.        , 0.        ,\n",
      "        0.        , 0.        , 0.        ],\n",
      "       [0.        , 0.        , 0.        , 0.        , 0.        ,\n",
      "        0.        , 0.        , 0.        , 0.        , 0.        ,\n",
      "        0.        , 0.        , 0.        , 0.        , 0.        ,\n",
      "        0.        , 0.        , 0.        , 0.        , 0.        ,\n",
      "        0.        , 0.        , 0.        , 0.        , 0.        ,\n",
      "        0.        , 0.        , 0.        ],\n",
      "       [0.        , 0.        , 0.        , 0.        , 0.        ,\n",
      "        0.        , 0.        , 0.        , 0.        , 0.        ,\n",
      "        0.        , 0.        , 0.        , 0.        , 0.        ,\n",
      "        0.        , 0.        , 0.        , 0.        , 0.        ,\n",
      "        0.        , 0.        , 0.        , 0.        , 0.        ,\n",
      "        0.        , 0.        , 0.        ],\n",
      "       [0.        , 0.        , 0.        , 0.        , 0.        ,\n",
      "        0.        , 0.        , 0.        , 0.        , 0.        ,\n",
      "        0.        , 0.        , 0.        , 0.        , 0.        ,\n",
      "        0.        , 0.        , 0.        , 0.        , 0.        ,\n",
      "        0.        , 0.        , 0.        , 0.        , 0.        ,\n",
      "        0.        , 0.        , 0.        ],\n",
      "       [0.        , 0.        , 0.        , 0.        , 0.        ,\n",
      "        0.        , 0.        , 0.        , 0.        , 0.        ,\n",
      "        0.        , 0.        , 0.        , 0.        , 0.        ,\n",
      "        0.        , 0.        , 0.        , 0.        , 0.        ,\n",
      "        0.        , 0.        , 0.        , 0.        , 0.        ,\n",
      "        0.        , 0.        , 0.        ],\n",
      "       [0.        , 0.        , 0.        , 0.        , 0.        ,\n",
      "        0.        , 0.        , 0.        , 0.        , 0.        ,\n",
      "        0.        , 0.        , 0.        , 0.        , 0.        ,\n",
      "        0.        , 0.        , 0.        , 0.        , 0.        ,\n",
      "        0.        , 0.        , 0.        , 0.        , 0.        ,\n",
      "        0.        , 0.        , 0.        ],\n",
      "       [0.        , 0.        , 0.        , 0.        , 0.        ,\n",
      "        0.        , 0.        , 0.        , 0.        , 0.        ,\n",
      "        0.        , 0.        , 0.        , 0.        , 0.        ,\n",
      "        0.        , 0.        , 0.        , 0.        , 0.        ,\n",
      "        0.        , 0.        , 0.        , 0.        , 0.        ,\n",
      "        0.        , 0.        , 0.        ],\n",
      "       [0.        , 0.        , 0.7764706 , 0.8862745 , 0.6666667 ,\n",
      "        0.44705883, 0.3372549 , 0.11372549, 0.        , 0.        ,\n",
      "        0.        , 0.        , 0.        , 0.        , 0.        ,\n",
      "        0.        , 0.        , 0.        , 0.        , 0.        ,\n",
      "        0.        , 0.        , 0.        , 0.        , 0.        ,\n",
      "        0.        , 0.        , 0.        ],\n",
      "       [0.        , 0.        , 0.3372549 , 1.        , 1.        ,\n",
      "        1.        , 1.        , 1.        , 0.6666667 , 0.6666667 ,\n",
      "        0.3372549 , 0.3372549 , 0.11372549, 0.        , 0.        ,\n",
      "        0.        , 0.        , 0.        , 0.        , 0.        ,\n",
      "        0.        , 0.        , 0.        , 0.        , 0.        ,\n",
      "        0.        , 0.        , 0.        ],\n",
      "       [0.        , 0.        , 0.        , 0.        , 0.11372549,\n",
      "        0.5529412 , 0.6666667 , 0.7764706 , 1.        , 1.        ,\n",
      "        1.        , 1.        , 1.        , 1.        , 0.6666667 ,\n",
      "        0.3372549 , 0.22352941, 0.        , 0.        , 0.        ,\n",
      "        0.        , 0.        , 0.        , 0.        , 0.        ,\n",
      "        0.        , 0.        , 0.        ],\n",
      "       [0.        , 0.        , 0.        , 0.        , 0.        ,\n",
      "        0.        , 0.        , 0.        , 0.        , 0.22352941,\n",
      "        0.3372549 , 0.5529412 , 0.8862745 , 1.        , 1.        ,\n",
      "        1.        , 1.        , 0.8862745 , 0.6666667 , 0.5529412 ,\n",
      "        0.        , 0.        , 0.        , 0.        , 0.        ,\n",
      "        0.        , 0.        , 0.        ],\n",
      "       [0.        , 0.        , 0.        , 0.        , 0.        ,\n",
      "        0.        , 0.        , 0.        , 0.        , 0.        ,\n",
      "        0.        , 0.        , 0.        , 0.11372549, 0.3372549 ,\n",
      "        0.5529412 , 0.6666667 , 0.8862745 , 1.        , 1.        ,\n",
      "        1.        , 0.3372549 , 0.        , 0.        , 0.        ,\n",
      "        0.        , 0.        , 0.        ],\n",
      "       [0.        , 0.        , 0.        , 0.        , 0.        ,\n",
      "        0.        , 0.        , 0.        , 0.        , 0.        ,\n",
      "        0.        , 0.        , 0.        , 0.        , 0.        ,\n",
      "        0.        , 0.        , 0.        , 0.3372549 , 0.8862745 ,\n",
      "        1.        , 0.7764706 , 0.        , 0.        , 0.        ,\n",
      "        0.        , 0.        , 0.        ],\n",
      "       [0.        , 0.        , 0.        , 0.        , 0.        ,\n",
      "        0.        , 0.        , 0.        , 0.        , 0.        ,\n",
      "        0.        , 0.        , 0.        , 0.        , 0.        ,\n",
      "        0.        , 0.        , 0.        , 0.44705883, 1.        ,\n",
      "        1.        , 0.7764706 , 0.        , 0.        , 0.        ,\n",
      "        0.        , 0.        , 0.        ],\n",
      "       [0.        , 0.        , 0.        , 0.        , 0.        ,\n",
      "        0.        , 0.        , 0.        , 0.        , 0.        ,\n",
      "        0.        , 0.        , 0.        , 0.        , 0.        ,\n",
      "        0.        , 0.        , 0.3372549 , 1.        , 1.        ,\n",
      "        1.        , 0.3372549 , 0.        , 0.        , 0.        ,\n",
      "        0.        , 0.        , 0.        ],\n",
      "       [0.        , 0.        , 0.        , 0.        , 0.        ,\n",
      "        0.        , 0.        , 0.        , 0.        , 0.        ,\n",
      "        0.        , 0.        , 0.        , 0.        , 0.        ,\n",
      "        0.        , 0.11372549, 0.8862745 , 1.        , 1.        ,\n",
      "        0.44705883, 0.        , 0.        , 0.        , 0.        ,\n",
      "        0.        , 0.        , 0.        ],\n",
      "       [0.        , 0.        , 0.        , 0.        , 0.        ,\n",
      "        0.        , 0.        , 0.        , 0.        , 0.        ,\n",
      "        0.        , 0.        , 0.        , 0.        , 0.        ,\n",
      "        0.11372549, 0.7764706 , 1.        , 1.        , 0.44705883,\n",
      "        0.        , 0.        , 0.        , 0.        , 0.        ,\n",
      "        0.        , 0.        , 0.        ],\n",
      "       [0.        , 0.        , 0.        , 0.        , 0.        ,\n",
      "        0.        , 0.        , 0.        , 0.        , 0.        ,\n",
      "        0.        , 0.        , 0.        , 0.        , 0.        ,\n",
      "        0.5529412 , 1.        , 1.        , 0.6666667 , 0.11372549,\n",
      "        0.        , 0.        , 0.        , 0.        , 0.        ,\n",
      "        0.        , 0.        , 0.        ],\n",
      "       [0.        , 0.        , 0.        , 0.        , 0.        ,\n",
      "        0.        , 0.        , 0.        , 0.        , 0.        ,\n",
      "        0.        , 0.        , 0.        , 0.        , 0.6666667 ,\n",
      "        1.        , 1.        , 0.6666667 , 0.        , 0.        ,\n",
      "        0.        , 0.        , 0.        , 0.        , 0.        ,\n",
      "        0.        , 0.        , 0.        ],\n",
      "       [0.        , 0.        , 0.        , 0.        , 0.        ,\n",
      "        0.        , 0.        , 0.        , 0.        , 0.        ,\n",
      "        0.        , 0.        , 0.        , 0.3372549 , 1.        ,\n",
      "        1.        , 0.8862745 , 0.22352941, 0.        , 0.        ,\n",
      "        0.        , 0.        , 0.        , 0.        , 0.        ,\n",
      "        0.        , 0.        , 0.        ],\n",
      "       [0.        , 0.        , 0.        , 0.        , 0.        ,\n",
      "        0.        , 0.        , 0.        , 0.        , 0.        ,\n",
      "        0.        , 0.        , 0.22352941, 0.8862745 , 1.        ,\n",
      "        0.8862745 , 0.3372549 , 0.        , 0.        , 0.        ,\n",
      "        0.        , 0.        , 0.        , 0.        , 0.        ,\n",
      "        0.        , 0.        , 0.        ],\n",
      "       [0.        , 0.        , 0.        , 0.        , 0.        ,\n",
      "        0.        , 0.        , 0.        , 0.        , 0.        ,\n",
      "        0.        , 0.        , 0.6666667 , 1.        , 1.        ,\n",
      "        0.3372549 , 0.        , 0.        , 0.        , 0.        ,\n",
      "        0.        , 0.        , 0.        , 0.        , 0.        ,\n",
      "        0.        , 0.        , 0.        ],\n",
      "       [0.        , 0.        , 0.        , 0.        , 0.        ,\n",
      "        0.        , 0.        , 0.        , 0.        , 0.        ,\n",
      "        0.        , 0.        , 0.5529412 , 1.        , 1.        ,\n",
      "        0.22352941, 0.        , 0.        , 0.        , 0.        ,\n",
      "        0.        , 0.        , 0.        , 0.        , 0.        ,\n",
      "        0.        , 0.        , 0.        ],\n",
      "       [0.        , 0.        , 0.        , 0.        , 0.        ,\n",
      "        0.        , 0.        , 0.        , 0.        , 0.        ,\n",
      "        0.        , 0.        , 0.        , 0.        , 0.        ,\n",
      "        0.        , 0.        , 0.        , 0.        , 0.        ,\n",
      "        0.        , 0.        , 0.        , 0.        , 0.        ,\n",
      "        0.        , 0.        , 0.        ],\n",
      "       [0.        , 0.        , 0.        , 0.        , 0.        ,\n",
      "        0.        , 0.        , 0.        , 0.        , 0.        ,\n",
      "        0.        , 0.        , 0.        , 0.        , 0.        ,\n",
      "        0.        , 0.        , 0.        , 0.        , 0.        ,\n",
      "        0.        , 0.        , 0.        , 0.        , 0.        ,\n",
      "        0.        , 0.        , 0.        ],\n",
      "       [0.        , 0.        , 0.        , 0.        , 0.        ,\n",
      "        0.        , 0.        , 0.        , 0.        , 0.        ,\n",
      "        0.        , 0.        , 0.        , 0.        , 0.        ,\n",
      "        0.        , 0.        , 0.        , 0.        , 0.        ,\n",
      "        0.        , 0.        , 0.        , 0.        , 0.        ,\n",
      "        0.        , 0.        , 0.        ],\n",
      "       [0.        , 0.        , 0.        , 0.        , 0.        ,\n",
      "        0.        , 0.        , 0.        , 0.        , 0.        ,\n",
      "        0.        , 0.        , 0.        , 0.        , 0.        ,\n",
      "        0.        , 0.        , 0.        , 0.        , 0.        ,\n",
      "        0.        , 0.        , 0.        , 0.        , 0.        ,\n",
      "        0.        , 0.        , 0.        ]], dtype=float32), 7]\n"
     ]
    }
   ],
   "source": [
    "df = tp.dataset.Mnist('train')\n",
    "df.reset_state()\n",
    "\n",
    "print next(df.get_data())"
   ]
  },
  {
   "cell_type": "code",
   "execution_count": null,
   "metadata": {
    "slideshow": {
     "slide_type": "slide"
    }
   },
   "outputs": [],
   "source": [
    "# TODO: extract from df.get_data()\n",
    "\n",
    "plt.imshow(img, cmap='gray');\n",
    "plt.axis('off');\n",
    "print('label is %i' % label)\n"
   ]
  },
  {
   "cell_type": "code",
   "execution_count": null,
   "metadata": {},
   "outputs": [],
   "source": [
    "df = tp.dataset.Mnist('train')\n",
    "# TODO: inspect dataflow here ...\n",
    "df.reset_state()\n",
    "d = next(df.get_data())"
   ]
  },
  {
   "cell_type": "markdown",
   "metadata": {
    "slideshow": {
     "slide_type": "slide"
    }
   },
   "source": [
    "## Modifying data distribution "
   ]
  },
  {
   "cell_type": "code",
   "execution_count": 25,
   "metadata": {},
   "outputs": [
    {
     "name": "stdout",
     "output_type": "stream",
     "text": [
      "[5923. 6742. 5958. 6131. 5842. 5421. 5918. 6265. 5851. 5949.]\n"
     ]
    },
    {
     "data": {
      "image/png": "[encoded data removed]",
      "text/plain": [
       "<matplotlib.figure.Figure at 0x7f5c4c0b9fd0>"
      ]
     },
     "metadata": {},
     "output_type": "display_data"
    }
   ],
   "source": [
    "histogram = np.zeros((10, )) # k-th entry tells how many of these digits are observed\n",
    "df = tp.dataset.Mnist('train')\n",
    "df.reset_state()\n",
    "\n",
    "for img, label in df.get_data():\n",
    "    histogram[label] += 1\n",
    "    \n",
    "print(histogram)\n",
    "plt.bar(range(10), histogram, 1);"
   ]
  },
  {
   "cell_type": "markdown",
   "metadata": {
    "slideshow": {
     "slide_type": "slide"
    }
   },
   "source": [
    "Just consider \"8\" and \"0\""
   ]
  },
  {
   "cell_type": "code",
   "execution_count": null,
   "metadata": {
    "collapsed": true
   },
   "outputs": [],
   "source": [
    "# dp is from a [img, label]- seq\n",
    "def FilterMapping(dp):\n",
    "    img, label = dp\n",
    "\n",
    "    # TODO return if only if 8 or 0"
   ]
  },
  {
   "cell_type": "code",
   "execution_count": null,
   "metadata": {},
   "outputs": [],
   "source": [
    "histogram = np.zeros((10, )) # k-th entry tells how many of these digits are observed\n",
    "\n",
    "df = tp.dataset.Mnist('train')\n",
    "df = tp.MapData(df, FilterMapping)\n",
    "df.reset_state()\n",
    "\n",
    "for img, label in df.get_data():\n",
    "    histogram[label] += 1\n",
    "\n",
    "print(histogram)\n",
    "plt.bar(range(10), histogram, 1);"
   ]
  },
  {
   "cell_type": "markdown",
   "metadata": {
    "slideshow": {
     "slide_type": "notes"
    }
   },
   "source": [
    "Wait we need to set the label to \"0, 1\""
   ]
  },
  {
   "cell_type": "code",
   "execution_count": null,
   "metadata": {
    "collapsed": true,
    "slideshow": {
     "slide_type": "slide"
    }
   },
   "outputs": [],
   "source": [
    "def CorrectLabels(dp):\n",
    "    img, label = dp\n",
    "\n",
    "    # set label of 8 to 1\n",
    "    \n",
    "    return [img, label]"
   ]
  },
  {
   "cell_type": "code",
   "execution_count": null,
   "metadata": {},
   "outputs": [],
   "source": [
    "histogram = np.zeros((10, )) # k-th entry tells how many of these digits are observed\n",
    "\n",
    "df = tp.dataset.Mnist('train')\n",
    "df = tp.MapData(df, FilterMapping)\n",
    "df = tp.MapData(df, CorrectLabels)\n",
    "df.reset_state()\n",
    "\n",
    "for img, label in df.get_data():\n",
    "    histogram[label] += 1\n",
    "\n",
    "print(histogram)\n",
    "plt.bar(range(10), histogram, 1);"
   ]
  },
  {
   "cell_type": "markdown",
   "metadata": {
    "collapsed": true,
    "slideshow": {
     "slide_type": "slide"
    }
   },
   "source": [
    "## Batching Data"
   ]
  },
  {
   "cell_type": "code",
   "execution_count": 26,
   "metadata": {},
   "outputs": [
    {
     "name": "stdout",
     "output_type": "stream",
     "text": [
      "\u001b[32m[0425 08:55:19 @common.py:771]\u001b[0m \u001b[36mDataFlow Info:\u001b[0m\n",
      "datapoint 0<1 with 2 components consists of\n",
      "  0: ndarray:float32 of shape (28, 28) in range [0.0, 0.996078431606]\n",
      "  1: uint8 with value 8\n"
     ]
    }
   ],
   "source": [
    "df = tp.dataset.Mnist('train')\n",
    "df = tp.PrintData(df)\n",
    "df.reset_state()\n",
    "d = next(df.get_data())"
   ]
  },
  {
   "cell_type": "code",
   "execution_count": 27,
   "metadata": {},
   "outputs": [
    {
     "name": "stdout",
     "output_type": "stream",
     "text": [
      "\u001b[32m[0425 08:55:21 @common.py:771]\u001b[0m \u001b[36mDataFlow Info:\u001b[0m\n",
      "datapoint 0<1 with 2 components consists of\n",
      "  0: ndarray:float32 of shape (8, 28, 28) in range [0.0, 1.0]\n",
      "  1: ndarray:uint8 of shape (8,) in range [0, 9]\n"
     ]
    }
   ],
   "source": [
    "df = tp.dataset.Mnist('train')\n",
    "df = tp.BatchData(df, 8)\n",
    "df = tp.PrintData(df)\n",
    "df.reset_state()\n",
    "d = next(df.get_data())"
   ]
  },
  {
   "cell_type": "markdown",
   "metadata": {
    "slideshow": {
     "slide_type": "slide"
    }
   },
   "source": [
    "## Prefetch Data (workaround GIL) \n",
    "###  -- Data Augmentation at its finest --"
   ]
  },
  {
   "cell_type": "code",
   "execution_count": 28,
   "metadata": {
    "slideshow": {
     "slide_type": "slide"
    }
   },
   "outputs": [
    {
     "name": "stderr",
     "output_type": "stream",
     "text": [
      "100%|##########|1000/1000[00:32<00:00,31.04it/s]\n"
     ]
    }
   ],
   "source": [
    "# question: why data augmentation\n",
    "import numpy as np\n",
    "df = tp.FakeData([[256, 256, 3], [1]], 8000, random=False, dtype=['float32', 'uint8'], domain=[(0, 255), (0, 10)])\n",
    "\n",
    "# all data augmentation methos\n",
    "augmentors = [\n",
    "    tp.imgaug.RandomOrderAug([tp.imgaug.BrightnessScale((0.6, 1.4), clip=False),\n",
    "                           tp.imgaug.Contrast((0.6, 1.4), clip=False),\n",
    "                           tp.imgaug.Saturation(0.4, rgb=False),\n",
    "                           tp.imgaug.Lighting(0.1,\n",
    "                                           eigval=np.asarray([0.2175, 0.0188, 0.0045][::-1]) * 255.0,\n",
    "                                           eigvec=np.array([[-0.5675, 0.7192, 0.4009],\n",
    "                                                            [-0.5808, -0.0045, -0.8140],\n",
    "                                                            [-0.5836, -0.6948, 0.4203]],\n",
    "                                                           dtype='float32')[::-1, ::-1]\n",
    "                                     )]),\n",
    "    tp.imgaug.Flip(horiz=True)\n",
    "]\n",
    "\n",
    "df = tp.AugmentImageComponent(df, augmentors, copy=False)\n",
    "df = tp.BatchData(df, 8)\n",
    "df.reset_state()\n",
    "\n",
    "\n",
    "tp.TestDataSpeed(df, size=1000).start()"
   ]
  },
  {
   "cell_type": "code",
   "execution_count": 31,
   "metadata": {
    "slideshow": {
     "slide_type": "slide"
    }
   },
   "outputs": [
    {
     "name": "stdout",
     "output_type": "stream",
     "text": [
      "\u001b[32m[0425 08:56:48 @parallel.py:178]\u001b[0m [MultiProcessPrefetchData] Will fork a dataflow more than one times. This assumes the datapoints are i.i.d.\n"
     ]
    },
    {
     "name": "stderr",
     "output_type": "stream",
     "text": [
      "100%|##########|1000/1000[00:12<00:00,78.95it/s]\n"
     ]
    }
   ],
   "source": [
    "df = tp.MultiProcessPrefetchData(df, nr_prefetch=100, nr_proc=4)\n",
    "\n",
    "df.reset_state()\n",
    "\n",
    "tp.TestDataSpeed(df, size=1000).start()"
   ]
  },
  {
   "cell_type": "markdown",
   "metadata": {
    "slideshow": {
     "slide_type": "notes"
    }
   },
   "source": [
    "Have a look at `top`."
   ]
  },
  {
   "cell_type": "code",
   "execution_count": 32,
   "metadata": {},
   "outputs": [
    {
     "name": "stdout",
     "output_type": "stream",
     "text": [
      "\u001b[32m[0425 08:57:05 @common.py:771]\u001b[0m \u001b[36mDataFlow Info:\u001b[0m\n",
      "datapoint 0<1 with 2 components consists of\n",
      "  0: ndarray:float32 of shape (8, 28, 28) in range [0.0, 1.0]\n",
      "  1: ndarray:uint8 of shape (8,) in range [0, 9]\n"
     ]
    }
   ],
   "source": [
    "df = tp.dataset.Mnist('train')\n",
    "df = tp.BatchData(df, 8)\n",
    "df = tp.PrintData(df)\n",
    "df.reset_state()\n",
    "d = next(df.get_data())"
   ]
  },
  {
   "cell_type": "markdown",
   "metadata": {},
   "source": [
    "Curse of Dimensionality"
   ]
  },
  {
   "cell_type": "code",
   "execution_count": null,
   "metadata": {
    "collapsed": true
   },
   "outputs": [],
   "source": []
  }
 ],
 "metadata": {
  "celltoolbar": "Slideshow",
  "kernelspec": {
   "display_name": "Python 2",
   "language": "python",
   "name": "python2"
  },
  "language_info": {
   "codemirror_mode": {
    "name": "ipython",
    "version": 2
   },
   "file_extension": ".py",
   "mimetype": "text/x-python",
   "name": "python",
   "nbconvert_exporter": "python",
   "pygments_lexer": "ipython2",
   "version": "2.7.12"
  }
 },
 "nbformat": 4,
 "nbformat_minor": 2
}
